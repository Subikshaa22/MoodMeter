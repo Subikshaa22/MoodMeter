{
 "cells": [
  {
   "cell_type": "code",
   "execution_count": null,
   "id": "5eeaf614-ea96-4d92-9a04-5ed9a5dd0cac",
   "metadata": {},
   "outputs": [],
   "source": [
    "emotions = { '01':'neutral','02':'calm','03':'happy','04':'sad','05':'angry','06':'fear',\n",
    "            '07':'disgust','08':'surprise'}"
   ]
  },
  {
   "cell_type": "code",
   "execution_count": null,
   "id": "0411273a-4af1-43f9-a001-eb00e64a6d68",
   "metadata": {},
   "outputs": [],
   "source": [
    "import os"
   ]
  },
  {
   "cell_type": "code",
   "execution_count": null,
   "id": "ccd04074-ec0e-45ad-9d63-c02ea70c177f",
   "metadata": {},
   "outputs": [],
   "source": [
    "# extract feature \n",
    "#the features that we want to extract are : \n",
    "#mfcc\n",
    "#mel \n",
    "#chroma"
   ]
  },
  {
   "cell_type": "code",
   "execution_count": null,
   "id": "516d11f4-6bf4-473c-b051-974938077a34",
   "metadata": {},
   "outputs": [],
   "source": []
  },
  {
   "cell_type": "code",
   "execution_count": null,
   "id": "12d537e5-d49b-4234-a6d5-00f032a061f7",
   "metadata": {},
   "outputs": [],
   "source": []
  },
  {
   "cell_type": "code",
   "execution_count": null,
   "id": "ab9c2eb9-5133-44be-a34f-341d191c334c",
   "metadata": {},
   "outputs": [],
   "source": []
  },
  {
   "cell_type": "code",
   "execution_count": null,
   "id": "08610681-1bde-459a-bf7b-7217cc854b27",
   "metadata": {},
   "outputs": [],
   "source": []
  },
  {
   "cell_type": "code",
   "execution_count": null,
   "id": "a2cf5eb6-140a-4d5b-b5c5-34fe9b24837f",
   "metadata": {},
   "outputs": [],
   "source": []
  },
  {
   "cell_type": "code",
   "execution_count": null,
   "id": "7911e10a-488d-49bc-8520-6ddf290469ec",
   "metadata": {},
   "outputs": [],
   "source": []
  },
  {
   "cell_type": "code",
   "execution_count": null,
   "id": "27e52dd7-ee06-431f-bbce-94c87931fed7",
   "metadata": {},
   "outputs": [],
   "source": []
  },
  {
   "cell_type": "code",
   "execution_count": null,
   "id": "e1c6e413-1614-47f5-ba4c-ce95bf1c40c6",
   "metadata": {},
   "outputs": [],
   "source": []
  },
  {
   "cell_type": "code",
   "execution_count": null,
   "id": "17d74feb-c608-4a77-897d-55d59d0ca9d5",
   "metadata": {},
   "outputs": [],
   "source": []
  }
 ],
 "metadata": {
  "kernelspec": {
   "display_name": "Python 3 (ipykernel)",
   "language": "python",
   "name": "python3"
  },
  "language_info": {
   "codemirror_mode": {
    "name": "ipython",
    "version": 3
   },
   "file_extension": ".py",
   "mimetype": "text/x-python",
   "name": "python",
   "nbconvert_exporter": "python",
   "pygments_lexer": "ipython3",
   "version": "3.12.4"
  }
 },
 "nbformat": 4,
 "nbformat_minor": 5
}

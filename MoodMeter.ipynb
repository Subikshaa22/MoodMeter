{
 "cells": [
  {
   "cell_type": "code",
   "execution_count": null,
   "id": "0411273a-4af1-43f9-a001-eb00e64a6d68",
   "metadata": {},
   "outputs": [],
   "source": [
    "import os"
   ]
  },
  {
   "cell_type": "code",
   "execution_count": null,
   "id": "5eeaf614-ea96-4d92-9a04-5ed9a5dd0cac",
   "metadata": {},
   "outputs": [],
   "source": [
    "emotions = { '01':'neutral','02':'calm','03':'happy','04':'sad','05':'angry','06':'fear',\n",
    "            '07':'disgust','08':'surprise'}"
   ]
  },
  {
   "cell_type": "code",
   "execution_count": null,
   "id": "4c520bcb-13fd-43a7-893b-d2941fbe13b0",
   "metadata": {},
   "outputs": [],
   "source": [
    "import librosa"
   ]
  },
  {
   "cell_type": "code",
   "execution_count": null,
   "id": "ccd04074-ec0e-45ad-9d63-c02ea70c177f",
   "metadata": {},
   "outputs": [],
   "source": [
    "def extract_features(file_path, features=(\"mfcc\", \"mel\")):\n",
    "  y, sr = librosa.load(file_path)  # Load audio and get sampling rate\n",
    "  feature_vector = []\n",
    "  for feature in features:\n",
    "    if feature == \"mfcc\":\n",
    "      mfccs = librosa.feature.mfcc(y=y, sr=sr, n_mfcc=40)\n",
    "      feature_vector.append(np.mean(mfccs.T, axis=0))  # Average across time\n",
    "    elif feature == \"mel\":\n",
    "      melspectrogram = librosa.feature.melspectrogram(y=y, sr=sr)\n",
    "      feature_vector.append(np.mean(melspectrogram.T, axis=0))  # Average across time\n",
    "    elif feature == \"chroma\":\n",
    "      stft = np.abs(librosa.stft(y))\n",
    "      chroma_features = librosa.feature.chroma_stft(S=stft, sr=sr)\n",
    "      feature_vector.append(np.mean(chroma_features.T, axis=0))\n",
    "    else:\n",
    "      raise ValueError(f\"Unsupported feature: {feature}\")\n",
    "\n",
    "  return np.concatenate(feature_vector)\n",
    "\n",
    "# Example usage\n",
    "features = extract_features(\"path/to/audio.wav\", features=(\"mfcc\", \"mel\"))\n",
    "\n",
    "\n"
   ]
  },
  {
   "cell_type": "code",
   "execution_count": null,
   "id": "516d11f4-6bf4-473c-b051-974938077a34",
   "metadata": {},
   "outputs": [],
   "source": []
  },
  {
   "cell_type": "code",
   "execution_count": null,
   "id": "12d537e5-d49b-4234-a6d5-00f032a061f7",
   "metadata": {},
   "outputs": [],
   "source": []
  },
  {
   "cell_type": "code",
   "execution_count": null,
   "id": "ab9c2eb9-5133-44be-a34f-341d191c334c",
   "metadata": {},
   "outputs": [],
   "source": []
  },
  {
   "cell_type": "code",
   "execution_count": null,
   "id": "08610681-1bde-459a-bf7b-7217cc854b27",
   "metadata": {},
   "outputs": [],
   "source": []
  },
  {
   "cell_type": "code",
   "execution_count": null,
   "id": "a2cf5eb6-140a-4d5b-b5c5-34fe9b24837f",
   "metadata": {},
   "outputs": [],
   "source": []
  },
  {
   "cell_type": "code",
   "execution_count": null,
   "id": "7911e10a-488d-49bc-8520-6ddf290469ec",
   "metadata": {},
   "outputs": [],
   "source": []
  },
  {
   "cell_type": "code",
   "execution_count": null,
   "id": "27e52dd7-ee06-431f-bbce-94c87931fed7",
   "metadata": {},
   "outputs": [],
   "source": []
  },
  {
   "cell_type": "code",
   "execution_count": null,
   "id": "e1c6e413-1614-47f5-ba4c-ce95bf1c40c6",
   "metadata": {},
   "outputs": [],
   "source": []
  },
  {
   "cell_type": "code",
   "execution_count": null,
   "id": "17d74feb-c608-4a77-897d-55d59d0ca9d5",
   "metadata": {},
   "outputs": [],
   "source": []
  }
 ],
 "metadata": {
  "kernelspec": {
   "display_name": "Python 3 (ipykernel)",
   "language": "python",
   "name": "python3"
  },
  "language_info": {
   "codemirror_mode": {
    "name": "ipython",
    "version": 3
   },
   "file_extension": ".py",
   "mimetype": "text/x-python",
   "name": "python",
   "nbconvert_exporter": "python",
   "pygments_lexer": "ipython3",
   "version": "3.12.4"
  }
 },
 "nbformat": 4,
 "nbformat_minor": 5
}

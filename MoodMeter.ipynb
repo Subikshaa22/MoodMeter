{
 "cells": [
  {
   "cell_type": "code",
   "execution_count": 4,
   "id": "0411273a-4af1-43f9-a001-eb00e64a6d68",
   "metadata": {
    "scrolled": true
   },
   "outputs": [
    {
     "name": "stdout",
     "output_type": "stream",
     "text": [
      "Train shape: (720, 96), Test shape: (720, 96)\n",
      "Accuracy: 51.11%\n"
     ]
    }
   ],
   "source": [
    "import librosa\n",
    "import soundfile\n",
    "import numpy as np\n",
    "from sklearn.model_selection import train_test_split\n",
    "from sklearn.neural_network import MLPClassifier\n",
    "from sklearn.metrics import accuracy_score\n",
    "\n",
    "def extract_feature(file_name, min_length=2048):\n",
    "    with soundfile.SoundFile(file_name) as sound_file:\n",
    "        X = sound_file.read(dtype=\"float32\")\n",
    "        sample_rate = sound_file.samplerate\n",
    "        \n",
    "        # If the audio signal is shorter than the minimum required length, pad it with zeros\n",
    "        if len(X) < min_length:\n",
    "            X = np.pad(X, (0, min_length - len(X)), mode='constant')\n",
    "\n",
    "        result = np.array([])\n",
    "\n",
    "        # Calculate n_fft dynamically\n",
    "        n_fft = min(2048, len(X))\n",
    "\n",
    "        # chroma\n",
    "        stft = np.abs(librosa.stft(X, n_fft=n_fft))\n",
    "        chroma = np.mean(librosa.feature.chroma_stft(S=stft, sr=sample_rate), axis=1)\n",
    "        result = np.hstack((result, chroma.flatten()))\n",
    "\n",
    "        # mfcc\n",
    "        mfccs = np.mean(librosa.feature.mfcc(y=X, sr=sample_rate, n_mfcc=20), axis=1)\n",
    "        result = np.hstack((result, mfccs.flatten()))\n",
    "\n",
    "        # mel\n",
    "        mel = np.mean(librosa.feature.melspectrogram(y=X, sr=sample_rate, n_mels=64), axis=1)\n",
    "        result = np.hstack((result, mel.flatten()))\n",
    "\n",
    "    return result\n",
    "\n",
    "emotions = {\n",
    "    '01': 'neutral',\n",
    "    '02': 'calm',\n",
    "    '03': 'happy',\n",
    "    '04': 'sad',\n",
    "    '05': 'angry',\n",
    "    '06': 'fearful',\n",
    "    '07': 'disgust',\n",
    "    '08': 'surprised'\n",
    "}\n",
    "\n",
    "def load_data(test_size):\n",
    "    x, y = [], []\n",
    "    actors = ['01', '02', '03', '04', '05', '06', '07', '08', '09', '10', '11', '12', '13', '14', '15', '16', '17', '18', '19', '20', '21', '22', '23', '24']\n",
    "    for actor in actors:\n",
    "        for emotion in emotions:\n",
    "            if emotion == '01':\n",
    "                for statement in range(1, 3):\n",
    "                    for repetition in range(1, 3):\n",
    "                        file_path = fr\"C:\\Users\\subik\\MoodMeter\\RAVDESS_dataset\\Actor_{actor}\\03-01-01-01-0{statement}-0{repetition}-{actor}.wav\"\n",
    "                        feature = extract_feature(file_path)\n",
    "                        if feature is not None:\n",
    "                            x.append(feature)\n",
    "                            y.append(emotions[emotion])\n",
    "            else:\n",
    "                for intensity in range(1, 3):\n",
    "                    for statement in range(1, 3):\n",
    "                        for repetition in range(1, 3):\n",
    "                            file_path = fr\"C:\\Users\\subik\\MoodMeter\\RAVDESS_dataset\\Actor_{actor}\\03-01-{emotion}-0{intensity}-0{statement}-0{repetition}-{actor}.wav\"\n",
    "                            feature = extract_feature(file_path)\n",
    "                            if feature is not None and emotion:\n",
    "                                x.append(feature) \n",
    "                                y.append(emotions[emotion])\n",
    "    \n",
    "    return train_test_split(np.array(x), y, test_size=test_size, random_state=9)\n",
    "\n",
    "x_train, x_test, y_train, y_test = load_data(test_size=0.5)\n",
    "print(f\"Train shape: {x_train.shape}, Test shape: {x_test.shape}\")\n",
    "\n",
    "model = MLPClassifier(alpha=0.01, batch_size=256, epsilon=1e-08, hidden_layer_sizes=(300,), learning_rate='adaptive', max_iter=800)\n",
    "model.fit(x_train, y_train)\n",
    "\n",
    "y_pred = model.predict(x_test)\n",
    "accuracy = accuracy_score(y_true=y_test, y_pred=y_pred)\n",
    "print(\"Accuracy: {:.2f}%\".format(accuracy * 100))\n"
   ]
  },
  {
   "cell_type": "code",
   "execution_count": null,
   "id": "4c520bcb-13fd-43a7-893b-d2941fbe13b0",
   "metadata": {},
   "outputs": [],
   "source": []
  },
  {
   "cell_type": "code",
   "execution_count": null,
   "id": "ccd04074-ec0e-45ad-9d63-c02ea70c177f",
   "metadata": {},
   "outputs": [],
   "source": [
    "\n",
    "\n",
    "\n"
   ]
  },
  {
   "cell_type": "code",
   "execution_count": null,
   "id": "516d11f4-6bf4-473c-b051-974938077a34",
   "metadata": {},
   "outputs": [],
   "source": []
  },
  {
   "cell_type": "code",
   "execution_count": null,
   "id": "12d537e5-d49b-4234-a6d5-00f032a061f7",
   "metadata": {},
   "outputs": [],
   "source": []
  },
  {
   "cell_type": "code",
   "execution_count": null,
   "id": "ab9c2eb9-5133-44be-a34f-341d191c334c",
   "metadata": {},
   "outputs": [],
   "source": []
  },
  {
   "cell_type": "code",
   "execution_count": null,
   "id": "08610681-1bde-459a-bf7b-7217cc854b27",
   "metadata": {},
   "outputs": [],
   "source": []
  },
  {
   "cell_type": "code",
   "execution_count": null,
   "id": "a2cf5eb6-140a-4d5b-b5c5-34fe9b24837f",
   "metadata": {},
   "outputs": [],
   "source": []
  },
  {
   "cell_type": "code",
   "execution_count": null,
   "id": "7911e10a-488d-49bc-8520-6ddf290469ec",
   "metadata": {},
   "outputs": [],
   "source": []
  },
  {
   "cell_type": "code",
   "execution_count": null,
   "id": "27e52dd7-ee06-431f-bbce-94c87931fed7",
   "metadata": {},
   "outputs": [],
   "source": []
  },
  {
   "cell_type": "code",
   "execution_count": null,
   "id": "e1c6e413-1614-47f5-ba4c-ce95bf1c40c6",
   "metadata": {},
   "outputs": [],
   "source": []
  },
  {
   "cell_type": "code",
   "execution_count": null,
   "id": "17d74feb-c608-4a77-897d-55d59d0ca9d5",
   "metadata": {},
   "outputs": [],
   "source": []
  }
 ],
 "metadata": {
  "kernelspec": {
   "display_name": "Python 3 (ipykernel)",
   "language": "python",
   "name": "python3"
  },
  "language_info": {
   "codemirror_mode": {
    "name": "ipython",
    "version": 3
   },
   "file_extension": ".py",
   "mimetype": "text/x-python",
   "name": "python",
   "nbconvert_exporter": "python",
   "pygments_lexer": "ipython3",
   "version": "3.12.4"
  }
 },
 "nbformat": 4,
 "nbformat_minor": 5
}
